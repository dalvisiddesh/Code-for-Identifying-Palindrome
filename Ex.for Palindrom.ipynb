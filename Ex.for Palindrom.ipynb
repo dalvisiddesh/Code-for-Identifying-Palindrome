{
 "cells": [
  {
   "cell_type": "code",
   "execution_count": null,
   "id": "8e5f7d60-0f9b-4d7f-9956-16173c4ad48b",
   "metadata": {},
   "outputs": [],
   "source": [
    "\n",
    "# Read the input\n",
    "s = input()\n",
    "\n",
    "#check for palindrome here\n",
    "s=s.lower()\n",
    "\n",
    "r=\"\"\n",
    "\n",
    "for i in s:\n",
    "    r=i+r\n",
    "if r==s:\n",
    "    print(1)\n",
    "else:\n",
    "    print(0)"
   ]
  }
 ],
 "metadata": {
  "kernelspec": {
   "display_name": "Python 3 (ipykernel)",
   "language": "python",
   "name": "python3"
  },
  "language_info": {
   "codemirror_mode": {
    "name": "ipython",
    "version": 3
   },
   "file_extension": ".py",
   "mimetype": "text/x-python",
   "name": "python",
   "nbconvert_exporter": "python",
   "pygments_lexer": "ipython3",
   "version": "3.12.3"
  }
 },
 "nbformat": 4,
 "nbformat_minor": 5
}
